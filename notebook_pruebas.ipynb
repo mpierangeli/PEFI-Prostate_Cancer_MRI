{
 "cells": [
  {
   "cell_type": "code",
   "execution_count": 1,
   "metadata": {},
   "outputs": [],
   "source": [
    "import tkinter as tk\n",
    "import tkinter.filedialog as fd\n",
    "\n",
    "root = tk.Tk()\n",
    "filez = fd.askopenfilenames(parent=root, title='Choose a file')\n",
    "lst = list(filez)"
   ]
  },
  {
   "cell_type": "code",
   "execution_count": 3,
   "metadata": {},
   "outputs": [
    {
     "name": "stdout",
     "output_type": "stream",
     "text": [
      "C:/Users/Pier/Desktop/Prostata-20211230T213222Z-001/Prostata/PROSTATA_1.MR.0001.0001.2021.12.22.13.14.21.169473.39474513.IMA\n"
     ]
    }
   ],
   "source": [
    "print(lst[0])"
   ]
  }
 ],
 "metadata": {
  "interpreter": {
   "hash": "d9579fd63862c719ce91d1dd1fb1c44b2ef43bdaa2f86d843d9fd8562746d35b"
  },
  "kernelspec": {
   "display_name": "Python 3.9.6 64-bit",
   "language": "python",
   "name": "python3"
  },
  "language_info": {
   "codemirror_mode": {
    "name": "ipython",
    "version": 3
   },
   "file_extension": ".py",
   "mimetype": "text/x-python",
   "name": "python",
   "nbconvert_exporter": "python",
   "pygments_lexer": "ipython3",
   "version": "3.9.6"
  },
  "orig_nbformat": 4
 },
 "nbformat": 4,
 "nbformat_minor": 2
}
