{
 "cells": [
  {
   "cell_type": "code",
   "execution_count": 3,
   "metadata": {},
   "outputs": [],
   "source": [
    "import pydicom\n",
    "import matplotlib.pyplot as plt\n",
    "import numpy as np"
   ]
  },
  {
   "cell_type": "code",
   "execution_count": null,
   "metadata": {},
   "outputs": [],
   "source": [
    "from skimage import io,viewer,exposure\n",
    "from skimage.viewer.plugins.lineprofile import LineProfile\n",
    "from skimage.viewer.plugins import Plugin\n",
    "from skimage.viewer.widgets import Slider\n",
    "\n",
    "\n",
    "img = io.imread(filePath,as_gray=True)\n",
    "#img.shape\n",
    "#img = exposure.rescale_intensity(img,in_range=\"image\",out_range=(0,1))\n",
    "viewer = viewer.ImageViewer(img)\n",
    "viewer+=LineProfile(maxdist=100)\n",
    "viewer.show()"
   ]
  },
  {
   "cell_type": "code",
   "execution_count": 18,
   "metadata": {},
   "outputs": [
    {
     "name": "stdout",
     "output_type": "stream",
     "text": [
      "[0 0 0 ... 0 0 0]\n"
     ]
    }
   ],
   "source": [
    "flat = img.pixel_array.flatten()\n",
    "print(flat)"
   ]
  },
  {
   "cell_type": "code",
   "execution_count": 50,
   "metadata": {},
   "outputs": [
    {
     "data": {
      "text/plain": [
       "(array([77203, 11305,  5050,  4414,  5375,  4497,  3932,  2502,   832,\n",
       "           90], dtype=int64),\n",
       " array([   0. ,  293.3,  586.6,  879.9, 1173.2, 1466.5, 1759.8, 2053.1,\n",
       "        2346.4, 2639.7, 2933. ]))"
      ]
     },
     "execution_count": 50,
     "metadata": {},
     "output_type": "execute_result"
    }
   ],
   "source": [
    "np.histogram(img.pixel_array,bins=10)"
   ]
  },
  {
   "cell_type": "code",
   "execution_count": 58,
   "metadata": {},
   "outputs": [
    {
     "data": {
      "image/png": "[encoded data removed]",
      "text/plain": [
       "<Figure size 432x288 with 1 Axes>"
      ]
     },
     "metadata": {
      "needs_background": "light"
     },
     "output_type": "display_data"
    }
   ],
   "source": [
    "\n",
    "plt.hist(flat,bins=100,log=True,histtype=\"stepfilled\")\n",
    "plt.savefig('histograma.png')\n",
    "plt.show()"
   ]
  },
  {
   "cell_type": "code",
   "execution_count": 11,
   "metadata": {},
   "outputs": [
    {
     "name": "stderr",
     "output_type": "stream",
     "text": [
      "Lossy conversion from float64 to uint8. Range [0, 1]. Convert image to uint8 prior to saving to suppress this warning.\n"
     ]
    }
   ],
   "source": [
    "io.imsave(\"images\\original.png\",img)"
   ]
  },
  {
   "cell_type": "code",
   "execution_count": null,
   "metadata": {},
   "outputs": [],
   "source": [
    "out = gradient(img, disk(1))\n",
    "io.imsave(\"bordes.png\",out)\n",
    "fig, ax = plt.subplots(figsize=(9, 9))\n",
    "ax.imshow(out,cmap=\"gray\")\n"
   ]
  }
 ],
 "metadata": {
  "interpreter": {
   "hash": "d9579fd63862c719ce91d1dd1fb1c44b2ef43bdaa2f86d843d9fd8562746d35b"
  },
  "kernelspec": {
   "display_name": "Python 3.9.6 64-bit",
   "language": "python",
   "name": "python3"
  },
  "language_info": {
   "codemirror_mode": {
    "name": "ipython",
    "version": 3
   },
   "file_extension": ".py",
   "mimetype": "text/x-python",
   "name": "python",
   "nbconvert_exporter": "python",
   "pygments_lexer": "ipython3",
   "version": "3.9.6"
  },
  "orig_nbformat": 4
 },
 "nbformat": 4,
 "nbformat_minor": 2
}
